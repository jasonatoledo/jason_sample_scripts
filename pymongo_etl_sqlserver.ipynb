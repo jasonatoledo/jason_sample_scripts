{
 "cells": [
  {
   "cell_type": "markdown",
   "id": "interstate-textbook",
   "metadata": {},
   "source": [
    "# API ETL with Python + SQL Alchemy into MS SQL Server and MongoDB using PyMongo"
   ]
  },
  {
   "cell_type": "code",
   "execution_count": null,
   "id": "selected-annual",
   "metadata": {},
   "outputs": [],
   "source": [
    "# increase cell width\n",
    "from IPython.display import display, HTML\n",
    "display(HTML(\"<style>.container { width:70% !important; }</style>\"))"
   ]
  },
  {
   "cell_type": "code",
   "execution_count": 1,
   "id": "comic-panic",
   "metadata": {},
   "outputs": [],
   "source": [
    "# import packages needed for ETL, PyMongo, and SQLAlchemy\n",
    "import requests\n",
    "import pandas as pd\n",
    "import pymongo\n",
    "import plotly\n",
    "import json\n",
    "import config.py\n",
    "import sqlalchemy\n",
    "from sqlalchemy import create_engine\n",
    "from sqlalchemy.sql import text\n",
    "import pprint\n",
    "import pymssql\n",
    "import pyodbc\n",
    "import itertools"
   ]
  },
  {
   "cell_type": "markdown",
   "id": "false-construction",
   "metadata": {},
   "source": [
    "### Retrieve List of Response Objects and convert to JSON"
   ]
  },
  {
   "cell_type": "code",
   "execution_count": 455,
   "id": "coordinated-grammar",
   "metadata": {},
   "outputs": [],
   "source": [
    "# try looping through multiple pages WORKING!\n",
    "api_data_test = []\n",
    "\n",
    "for page in range(1, 101):\n",
    "    url = \"https://api.rawg.io/api/games?key=config.api_key&page=%s\"%page\n",
    "    data = requests.get(url)\n",
    "    api_data_test.append(data)\n",
    "    \n",
    "# create test list object\n",
    "test_list =[]\n",
    "\n",
    "# convert api data into json list\n",
    "for i in api_data_test:\n",
    "    test_list.append(i.json())"
   ]
  },
  {
   "cell_type": "markdown",
   "id": "excess-jonathan",
   "metadata": {},
   "source": [
    "### Work through Iteration through list of JSONs"
   ]
  },
  {
   "cell_type": "code",
   "execution_count": 470,
   "id": "framed-breakfast",
   "metadata": {},
   "outputs": [],
   "source": [
    "# iterate through the list of JSON objects\n",
    "test_df = pd.DataFrame()\n",
    "\n",
    "for game_list in test_list:\n",
    "    for i in game_list[\"results\"]:\n",
    "        test_dict = {\"id\":i[\"id\"], \"name\":i[\"name\"],\"released\":i[\"released\"],\"rating\":i[\"rating\"]\\\n",
    ",\"platforms\":len(i[\"platforms\"]),\"background_image\":i[\"background_image\"],\"genres\":len(i[\"genres\"]),\"tags\":len(i[\"tags\"])\\\n",
    ",\"rating_top\":i[\"rating_top\"],\"ratings_count\":i[\"ratings_count\"],\"metacritic\":i[\"metacritic\"]\\\n",
    ",\"owned\":i[\"added_by_status\"][\"owned\"]\\\n",
    "                     ,\"yet\":i[\"added_by_status\"][\"yet\"],\"dropped\":i[\"added_by_status\"][\"dropped\"]\\\n",
    ",\"multiplayer\":[x[\"name\"] for x in i[\"tags\"] if x[\"id\"] == 7], \"singleplayer\":[x[\"name\"] for x in i[\"tags\"] if x[\"id\"] == 31]}\n",
    "        test_df = test_df.append(test_dict, ignore_index=True)\n",
    "        \n",
    "# convert columns run once only!\n",
    "test_df[\"id\"] = test_df[\"id\"].astype(\"int\")\n",
    "test_df[\"genres\"] = test_df[\"genres\"].astype(\"int\")\n",
    "test_df[\"owned\"] = test_df[\"owned\"].astype(\"int\")\n",
    "test_df[\"tags\"] = test_df[\"tags\"].astype(\"int\")\n",
    "test_df[\"platforms\"] = test_df[\"platforms\"].astype(\"int\")\n",
    "test_df[\"ratings_count\"] = test_df[\"ratings_count\"].astype(\"int\")\n",
    "test_df[\"dropped\"] = test_df[\"dropped\"].astype(\"int\")\n",
    "test_df[\"yet\"] = test_df[\"yet\"].astype(\"int\")\n",
    "test_df['singleplayer'] = [','.join(map(str, x)) for x in test_df['singleplayer']]\n",
    "test_df['multiplayer'] = [','.join(map(str, x)) for x in test_df['multiplayer']]"
   ]
  },
  {
   "cell_type": "code",
   "execution_count": 475,
   "id": "acceptable-assurance",
   "metadata": {},
   "outputs": [],
   "source": [
    "# reorder columns of df\n",
    "test_df = test_df.reindex([\"id\",\"name\",\"released\",\"rating\",\"ratings_count\",\"rating_top\",\"metacritic\", \"platforms\",\"genres\"\n",
    "                     ,\"tags\",\"owned\",\"yet\",\"dropped\",\"singleplayer\", \"multiplayer\",\"background_image\",], axis=1)"
   ]
  },
  {
   "cell_type": "code",
   "execution_count": 444,
   "id": "found-blond",
   "metadata": {},
   "outputs": [],
   "source": [
    "# export df to CSV file\n",
    "test_df.to_csv(\"game_df.csv\",index=False)"
   ]
  },
  {
   "cell_type": "code",
   "execution_count": 478,
   "id": "hidden-generator",
   "metadata": {},
   "outputs": [],
   "source": [
    "# create copy df\n",
    "game_df = test_df.copy()"
   ]
  },
  {
   "cell_type": "markdown",
   "id": "metallic-legend",
   "metadata": {},
   "source": [
    "### Link to next API call, create ID List Object"
   ]
  },
  {
   "cell_type": "code",
   "execution_count": 479,
   "id": "damaged-studio",
   "metadata": {},
   "outputs": [],
   "source": [
    "# create list object and sort results\n",
    "id_list = list(test_df[\"id\"])\n",
    "id_list.sort()"
   ]
  },
  {
   "cell_type": "markdown",
   "id": "involved-sunrise",
   "metadata": {},
   "source": [
    "### Iterate through all IDs and append as JSON"
   ]
  },
  {
   "cell_type": "code",
   "execution_count": 486,
   "id": "desirable-andrew",
   "metadata": {},
   "outputs": [],
   "source": [
    "# Retry looping through all ids in id_list\n",
    "achievements = []\n",
    "\n",
    "for id in id_list:\n",
    "    url = f\"https://api.rawg.io/api/games/{id}/achievements?key=31bc8ad2fb294e8b94b17755819a41ea\"\n",
    "    data = requests.get(url)\n",
    "    achievements.append(data)\n",
    "    \n",
    "# create JSON objects from response objects\n",
    "achievement_placeholder = []\n",
    "\n",
    "for i in achievements:\n",
    "    achievement_placeholder.append(i.json())"
   ]
  },
  {
   "cell_type": "markdown",
   "id": "hispanic-closer",
   "metadata": {},
   "source": [
    "### Create Achievements DF"
   ]
  },
  {
   "cell_type": "code",
   "execution_count": 493,
   "id": "south-compilation",
   "metadata": {},
   "outputs": [],
   "source": [
    "# create list object from achievement_placeholder\n",
    "a_list = []\n",
    "\n",
    "for i in achievement_placeholder:\n",
    "    a_list.append(i[\"count\"])\n",
    "    \n",
    "# create dict object to use for dataframe\n",
    "ach_dict = {\"id\":id_list,\"achievements\":a_list}\n",
    "\n",
    "# create df object\n",
    "achievements_df = pd.DataFrame(ach_dict, columns=[\"id\",\"achievements\"])"
   ]
  },
  {
   "cell_type": "markdown",
   "id": "governing-sally",
   "metadata": {},
   "source": [
    "### Creating Cursor Connection to MSSQL Server using pyodbc"
   ]
  },
  {
   "cell_type": "code",
   "execution_count": 231,
   "id": "synthetic-shakespeare",
   "metadata": {},
   "outputs": [],
   "source": [
    "# create variables for connection string\n",
    "user = \"JTOLEDO\"\n",
    "host = \"W10JTOLET560B\\SQLEXPRESS\"\n",
    "port = 1433\n",
    "db = \"CS779_TermProject\"\n",
    "\n",
    "# create connection object\n",
    "conn = pyodbc.connect('Driver={SQL Server};'\n",
    "                      'Server=W10JTOLET560B\\SQLEXPRESS;'\n",
    "                      'Database=CS779_TermProject;'\n",
    "                      'Trusted_Connection=yes;')"
   ]
  },
  {
   "cell_type": "code",
   "execution_count": 233,
   "id": "major-gardening",
   "metadata": {},
   "outputs": [],
   "source": [
    "# create cursor object\n",
    "cursor = conn.cursor()"
   ]
  },
  {
   "cell_type": "code",
   "execution_count": 235,
   "id": "aquatic-horizon",
   "metadata": {},
   "outputs": [
    {
     "name": "stdout",
     "output_type": "stream",
     "text": [
      "('5', )\n"
     ]
    }
   ],
   "source": [
    "# iterate through cursor to check results\n",
    "for i in cursor:\n",
    "    print(i)"
   ]
  },
  {
   "cell_type": "markdown",
   "id": "stock-pizza",
   "metadata": {},
   "source": [
    "## Create Engine to MSSQL with SQLAlchemy"
   ]
  },
  {
   "cell_type": "markdown",
   "id": "desirable-secret",
   "metadata": {},
   "source": [
    "#### This was a difficult task creating the correct create_engine object from SQLAlchemy. It took a couple of hours and a lot of documentation\n",
    "#### scouring and experimentation to get the local SQL Server connection to work."
   ]
  },
  {
   "cell_type": "code",
   "execution_count": 4,
   "id": "talented-anatomy",
   "metadata": {},
   "outputs": [
    {
     "data": {
      "text/plain": [
       "<sqlalchemy.engine.result.ResultProxy at 0x1de11563be0>"
      ]
     },
     "execution_count": 4,
     "metadata": {},
     "output_type": "execute_result"
    }
   ],
   "source": [
    "# create variables\n",
    "user = \"jtoledo\"\n",
    "host = \"W10JTOLET560B\\SQLEXPRESS\"\n",
    "db = \"CS779_TermProject\"\n",
    "\n",
    "# create engine object\n",
    "engine = create_engine('mssql+pyodbc://'+host+'/'+db+'?trusted_connection=yes&driver=SQL+Server')\n",
    "\n",
    "# execute use DB statement\n",
    "engine.execute(\"USE CS779_TermProject;\")"
   ]
  },
  {
   "cell_type": "markdown",
   "id": "alike-mortality",
   "metadata": {},
   "source": [
    "## Embedded SQL Approach to querying and appending results to dataframe"
   ]
  },
  {
   "cell_type": "code",
   "execution_count": 672,
   "id": "alternative-continent",
   "metadata": {},
   "outputs": [],
   "source": [
    "# create empty dataframe object\n",
    "my_df = pd.DataFrame()\n",
    "\n",
    "# create query text object\n",
    "query_text = text(\"\"\"\n",
    "                SELECT * FROM TestTable\n",
    "                \"\"\")\n",
    "\n",
    "# execute query text\n",
    "qry = engine.execute(query_text)\n",
    "\n",
    "# create results object as a dataframe\n",
    "results = pd.DataFrame(qry.fetchall())\n",
    "\n",
    "# cast keys as strings to use as the columns using list comprehension\n",
    "results.columns = [str(x) for x in qry.keys()]\n",
    "\n",
    "# append temporary df to existing\n",
    "my_df = my_df.append(results)"
   ]
  },
  {
   "cell_type": "markdown",
   "id": "formal-yacht",
   "metadata": {},
   "source": [
    "# Embedded SQL Approach to Creating Table"
   ]
  },
  {
   "cell_type": "code",
   "execution_count": 565,
   "id": "focused-nowhere",
   "metadata": {},
   "outputs": [],
   "source": [
    "# create query text object\n",
    "query_text = text(\"\"\"\n",
    "                CREATE TABLE JT_Test_Table(\n",
    "                    id NUMERIC(12)\n",
    "                    , first_name VARCHAR(32)\n",
    "                    , last_name VARCHAR(32)\n",
    "                    , email_address VARCHAR(64)\n",
    "                )\n",
    "                \"\"\")\n",
    "\n",
    "# execute query text\n",
    "qry = engine.execute(query_text)"
   ]
  },
  {
   "cell_type": "code",
   "execution_count": 566,
   "id": "indie-obligation",
   "metadata": {},
   "outputs": [
    {
     "name": "stdout",
     "output_type": "stream",
     "text": [
      "('CS779_TermProject', 'dbo', 'TestTable', 'BASE TABLE')\n",
      "('CS779_TermProject', 'dbo', 'Testing', 'BASE TABLE')\n",
      "('CS779_TermProject', 'dbo', 'JT_Test_Table', 'BASE TABLE')\n"
     ]
    }
   ],
   "source": [
    "# check results\n",
    "query_text = text(\"\"\"\n",
    "            SELECT *\n",
    "            FROM CS779_TermProject.INFORMATION_SCHEMA.TABLES;\n",
    "                \"\"\")\n",
    "\n",
    "# execute query text\n",
    "qry = engine.execute(query_text)\n",
    "\n",
    "# interate through qry object\n",
    "for i in qry:\n",
    "    print(i)"
   ]
  },
  {
   "cell_type": "markdown",
   "id": "dramatic-breed",
   "metadata": {},
   "source": [
    "# Native SQLAlchemy Class Object Create Table"
   ]
  },
  {
   "cell_type": "code",
   "execution_count": 567,
   "id": "automatic-pension",
   "metadata": {},
   "outputs": [],
   "source": [
    "# import data types and create test table\n",
    "from sqlalchemy import Column, Integer, String\n",
    "from sqlalchemy import create_engine\n",
    "from sqlalchemy.ext.declarative import declarative_base\n",
    "Base = declarative_base()\n",
    "\n",
    "# create class object with the column names\n",
    "class Testing(Base):\n",
    "   __tablename__ = 'Testing2'\n",
    "   id = Column(Integer, primary_key=True)\n",
    "   name = Column(String)\n",
    "   address = Column(String)\n",
    "   email = Column(String)\n",
    "\n",
    "# call Base object with .create_all and use SQL engine to execute\n",
    "Base.metadata.create_all(engine)"
   ]
  },
  {
   "cell_type": "code",
   "execution_count": 674,
   "id": "computational-kernel",
   "metadata": {},
   "outputs": [
    {
     "name": "stdout",
     "output_type": "stream",
     "text": [
      "('CS779_TermProject', 'dbo', 'TestTable', 'BASE TABLE')\n",
      "('CS779_TermProject', 'dbo', 'Testing', 'BASE TABLE')\n",
      "('CS779_TermProject', 'dbo', 'JT_Test_Table', 'BASE TABLE')\n",
      "('CS779_TermProject', 'dbo', 'Testing2', 'BASE TABLE')\n"
     ]
    }
   ],
   "source": [
    "# check results of the create table by looking at information_schema\n",
    "query_text = text(\"\"\"\n",
    "            SELECT *\n",
    "            FROM CS779_TermProject.INFORMATION_SCHEMA.TABLES;\n",
    "                \"\"\")\n",
    "\n",
    "# execute query text\n",
    "qry = engine.execute(query_text)\n",
    "\n",
    "# interate through qry object\n",
    "for i in qry:\n",
    "    print(i)"
   ]
  },
  {
   "cell_type": "markdown",
   "id": "focal-extraction",
   "metadata": {},
   "source": [
    "# Send Each DF to SQL Server Through SQLAlchemy"
   ]
  },
  {
   "cell_type": "code",
   "execution_count": 497,
   "id": "enormous-perry",
   "metadata": {},
   "outputs": [],
   "source": [
    "# send game_df to SQL Server\n",
    "game_df.to_sql(\"games\",engine, if_exists=\"replace\", index=False\n",
    "               , dtype={\"id\": sqlalchemy.types.INTEGER()\n",
    "                        , \"name\": sqlalchemy.types.VARCHAR(100)\n",
    "                        , \"released\":sqlalchemy.types.DATE\n",
    "                       }\n",
    "                      )"
   ]
  },
  {
   "cell_type": "code",
   "execution_count": 499,
   "id": "upset-forge",
   "metadata": {},
   "outputs": [],
   "source": [
    "# send achievements df to SQL Server super fast\n",
    "achievements_df.to_sql(\"achievements\",engine, if_exists=\"replace\", index=False\n",
    "               , dtype={\"id\": sqlalchemy.types.INTEGER()\n",
    "                        , \"achievements\": sqlalchemy.types.INTEGER()\n",
    "                       }\n",
    "                      )"
   ]
  },
  {
   "cell_type": "markdown",
   "id": "exciting-franchise",
   "metadata": {},
   "source": [
    "# PyMongo Mongo DB Connection"
   ]
  },
  {
   "cell_type": "code",
   "execution_count": 503,
   "id": "broad-foster",
   "metadata": {},
   "outputs": [],
   "source": [
    "# create MongoDB connection\n",
    "myclient = pymongo.MongoClient(\"mongodb+srv://<credentials>@cluster0.pf9l3gz.mongodb.net/test\")\n",
    "\n",
    "# create db_list object\n",
    "db_list = myclient.list_database_names()"
   ]
  },
  {
   "cell_type": "code",
   "execution_count": 507,
   "id": "vocal-symposium",
   "metadata": {},
   "outputs": [
    {
     "name": "stdout",
     "output_type": "stream",
     "text": [
      "cs779_db\n",
      "mongodb-assignment\n",
      "admin\n",
      "local\n"
     ]
    }
   ],
   "source": [
    "# check db names\n",
    "for db in db_list:\n",
    "    print(db)"
   ]
  },
  {
   "cell_type": "code",
   "execution_count": 545,
   "id": "attached-there",
   "metadata": {},
   "outputs": [],
   "source": [
    "# create db object for term project\n",
    "cs779_db = myclient[\"cs779_db\"]\n",
    "\n",
    "# list collection names\n",
    "cs779_db.list_collection_names()\n",
    "\n",
    "# use collection for term project\n",
    "term_project_col = cs779_db.term_project"
   ]
  },
  {
   "cell_type": "markdown",
   "id": "recovered-reggae",
   "metadata": {},
   "source": [
    "## Create new collection and insert game result raw JSON"
   ]
  },
  {
   "cell_type": "code",
   "execution_count": 559,
   "id": "illegal-bracelet",
   "metadata": {},
   "outputs": [],
   "source": [
    "# create new collection with Pymongo - create collection for games data\n",
    "game_collection = cs779_db[\"game_collection\"]\n",
    "\n",
    "# create new list object\n",
    "new_list = test_list"
   ]
  },
  {
   "cell_type": "markdown",
   "id": "banner-cricket",
   "metadata": {},
   "source": [
    "## Insert full game list to MongoDB collection"
   ]
  },
  {
   "cell_type": "code",
   "execution_count": 586,
   "id": "sophisticated-mechanism",
   "metadata": {},
   "outputs": [],
   "source": [
    "# insert all objects in nested loop\n",
    "for json_obj in new_list:\n",
    "    for i in json_obj[\"results\"]:\n",
    "        game_collection.insert_one(i)"
   ]
  },
  {
   "cell_type": "markdown",
   "id": "domestic-astronomy",
   "metadata": {},
   "source": [
    "### Insert achievement collection"
   ]
  },
  {
   "cell_type": "code",
   "execution_count": 627,
   "id": "suburban-western",
   "metadata": {},
   "outputs": [],
   "source": [
    "# create another collection for achievements correction\n",
    "achieve_collection3 =cs779_db[\"achievements3\"]"
   ]
  },
  {
   "cell_type": "code",
   "execution_count": 636,
   "id": "substantial-adventure",
   "metadata": {},
   "outputs": [],
   "source": [
    "# add try-except block, iterate through 2 lists at the same time\n",
    "\n",
    "for (id, json_obj) in itertools.zip_longest(id_list, achievement_placeholder):\n",
    "    # use id_list to get game value\n",
    "    try:\n",
    "\n",
    "        # extract count\n",
    "        achievements = int(json_obj[\"count\"])\n",
    "\n",
    "        # insert game_id, achievements into new collection\n",
    "        achieve_collection3.insert_one({\"game_id\":id, \"achievements\":achievements})\n",
    "\n",
    "    # ignore achievements with invalid records\n",
    "    except:\n",
    "        continue\n"
   ]
  },
  {
   "cell_type": "markdown",
   "id": "drawn-invention",
   "metadata": {},
   "source": [
    "# Native PyMongo Queries"
   ]
  },
  {
   "cell_type": "code",
   "execution_count": null,
   "id": "silent-experiment",
   "metadata": {},
   "outputs": [],
   "source": [
    "# basic find query\n",
    "game_collection.find_one({\"name\":\"Grand Theft Auto V\"})"
   ]
  },
  {
   "cell_type": "code",
   "execution_count": null,
   "id": "exact-setting",
   "metadata": {},
   "outputs": [],
   "source": [
    "# filter operation\n",
    "filter_search1 = game_collection.find({\"released\":{\"$gte\":\"2021-01-01\"}})"
   ]
  },
  {
   "cell_type": "code",
   "execution_count": null,
   "id": "significant-faculty",
   "metadata": {},
   "outputs": [],
   "source": [
    "# filter operation with more than one filter\n",
    "project_search1 = game_collection.find({\n",
    "                                        \"$and\":[{\n",
    "                                            \"released\":{\"$gte\":\"2022-01-01\"}\n",
    "                                        }, \n",
    "                                        {\"rating\":{\"$lte\":  4.0}\n",
    "                                         }]\n",
    "                                        })"
   ]
  },
  {
   "cell_type": "code",
   "execution_count": null,
   "id": "separated-modification",
   "metadata": {},
   "outputs": [],
   "source": [
    "# create dataframe of games with  release date and rating filters\n",
    "filter_df = pd.DataFrame(columns=[\"name\",\"released\"])\n",
    "name_list=[]\n",
    "released_list=[]\n",
    "\n",
    "for result in project_search1:\n",
    "    # append lists    \n",
    "    name_list.append(result[\"name\"])\n",
    "    released_list.append(result[\"released\"])"
   ]
  },
  {
   "cell_type": "code",
   "execution_count": null,
   "id": "sublime-villa",
   "metadata": {},
   "outputs": [],
   "source": [
    "# create dataframe from lists using zip function\n",
    "filter_df = pd.DataFrame(list(zip(name_list,released_list)),columns=[\"name\",\"released\"])"
   ]
  },
  {
   "cell_type": "code",
   "execution_count": null,
   "id": "identical-ceiling",
   "metadata": {},
   "outputs": [],
   "source": [
    "# inspect new dataframe\n",
    "filter_df.head()"
   ]
  },
  {
   "cell_type": "code",
   "execution_count": null,
   "id": "corporate-keyboard",
   "metadata": {},
   "outputs": [],
   "source": [
    "# get shape of df\n",
    "filter_df.shape"
   ]
  }
 ],
 "metadata": {
  "kernelspec": {
   "display_name": "FFN",
   "language": "python",
   "name": "ffn"
  },
  "language_info": {
   "codemirror_mode": {
    "name": "ipython",
    "version": 3
   },
   "file_extension": ".py",
   "mimetype": "text/x-python",
   "name": "python",
   "nbconvert_exporter": "python",
   "pygments_lexer": "ipython3",
   "version": "3.9.1"
  }
 },
 "nbformat": 4,
 "nbformat_minor": 5
}
